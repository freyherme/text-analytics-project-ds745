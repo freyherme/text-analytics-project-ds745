{
 "cells": [
  {
   "cell_type": "markdown",
   "metadata": {
    "collapsed": true,
    "pycharm": {
     "name": "#%% md\n"
    }
   },
   "source": []
  },
  {
   "cell_type": "code",
   "execution_count": 8,
   "metadata": {
    "pycharm": {
     "name": "#%%\n"
    }
   },
   "outputs": [
    {
     "name": "stderr",
     "output_type": "stream",
     "text": [
      "/Users/franck/conda_environment_for_pycharm/lib/python3.7/site-packages/ipykernel/ipkernel.py:283: DeprecationWarning: `should_run_async` will not call `transform_cell` automatically in the future. Please pass the result to `transformed_cell` argument and any exception that happen during thetransform in `preprocessing_exc_tuple` in IPython 7.17 and above.\n",
      "  and should_run_async(code)\n",
      "/Users/franck/conda_environment_for_pycharm/lib/python3.7/site-packages/ipykernel_launcher.py:25: FutureWarning: In a future version of pandas all arguments of DataFrame.drop except for the argument 'labels' will be keyword-only\n",
      "/Users/franck/conda_environment_for_pycharm/lib/python3.7/site-packages/ipykernel_launcher.py:26: FutureWarning: In a future version of pandas all arguments of DataFrame.drop except for the argument 'labels' will be keyword-only\n"
     ]
    },
    {
     "name": "stdout",
     "output_type": "stream",
     "text": [
      "Prepare NPS Responses...\n"
     ]
    },
    {
     "name": "stderr",
     "output_type": "stream",
     "text": [
      "/Users/franck/conda_environment_for_pycharm/lib/python3.7/site-packages/ipykernel_launcher.py:73: SettingWithCopyWarning: \n",
      "A value is trying to be set on a copy of a slice from a DataFrame.\n",
      "Try using .loc[row_indexer,col_indexer] = value instead\n",
      "\n",
      "See the caveats in the documentation: https://pandas.pydata.org/pandas-docs/stable/user_guide/indexing.html#returning-a-view-versus-a-copy\n"
     ]
    },
    {
     "name": "stdout",
     "output_type": "stream",
     "text": [
      "Create Bag-of-Words/Phrases Matrix...\n",
      "Create TF-IDF Matrix...\n",
      "Calculate Similarity Scores...\n",
      "Topic Model...\n"
     ]
    },
    {
     "name": "stderr",
     "output_type": "stream",
     "text": [
      "/Users/franck/conda_environment_for_pycharm/lib/python3.7/site-packages/pyLDAvis/_prepare.py:247: FutureWarning: In a future version of pandas all arguments of DataFrame.drop except for the argument 'labels' will be keyword-only\n",
      "  by='saliency', ascending=False).head(R).drop('saliency', 1)\n"
     ]
    },
    {
     "data": {
      "text/html": [
       "\n",
       "<link rel=\"stylesheet\" type=\"text/css\" href=\"https://cdn.jsdelivr.net/gh/bmabey/pyLDAvis@3.3.1/pyLDAvis/js/ldavis.v1.0.0.css\">\n",
       "\n",
       "\n",
       "<div id=\"ldavis_el50331406320017511208918424917\"></div>\n",
       "<script type=\"text/javascript\">\n",
       "\n",
       "var ldavis_el50331406320017511208918424917_data = {\"mdsDat\": {\"x\": [-0.11513166257133403, -0.15553112056421894, 0.27066278313555303], \"y\": [0.2018538278798986, -0.1827198487935122, -0.019133979086386706], \"topics\": [1, 2, 3], \"cluster\": [1, 1, 1], \"Freq\": [40.77112210315108, 35.34836088477589, 23.880517012073025]}, \"tinfo\": {\"Term\": [\"data\", \"easi\", \"user_friend\", \"find\", \"difficult\", \"not_user_friend\", \"great\", \"navig\", \"grade\", \"use\", \"time\", \"test\", \"hard\", \"work\", \"question\", \"good\", \"help\", \"mani\", \"report\", \"interfac\", \"recommend\", \"featur\", \"train\", \"friend\", \"dont\", \"search\", \"love\", \"take\", \"creat\", \"easi navig\", \"find\", \"difficult\", \"grade\", \"navig\", \"hard\", \"search\", \"difficult navig\", \"look\", \"want\", \"class\", \"attend\", \"iep\", \"hard navig\", \"sometim\", \"difficult find\", \"screen\", \"name\", \"set\", \"page\", \"differ\", \"easili\", \"parent\", \"level\", \"card\", \"hard find\", \"yet\", \"info\", \"report card\", \"wish\", \"view\", \"report\", \"know\", \"student\", \"like\", \"see\", \"dont\", \"inform\", \"score\", \"assign\", \"enter\", \"need\", \"one\", \"abl\", \"go\", \"assess\", \"thing\", \"teacher\", \"question\", \"help\", \"train\", \"featur\", \"item\", \"seem\", \"step\", \"issu\", \"complic\", \"bank\", \"consum\", \"us\", \"figur\", \"time consum\", \"updat\", \"support\", \"long\", \"get\", \"effici\", \"made\", \"creat assess\", \"isnt\", \"educ\", \"respons\", \"problem\", \"glitch\", \"format\", \"load\", \"scan\", \"item bank\", \"work\", \"time\", \"test\", \"mani\", \"standard\", \"take\", \"creat\", \"lot\", \"school\", \"year\", \"chang\", \"everi\", \"need\", \"assess\", \"give\", \"well\", \"make\", \"intuit\", \"student\", \"learn\", \"thing\", \"tri\", \"data\", \"easi\", \"user_friend\", \"great\", \"use\", \"good\", \"interfac\", \"recommend\", \"friend\", \"easi navig\", \"eas\", \"organ\", \"track\", \"resourc\", \"product\", \"job\", \"collect\", \"awesom\", \"instruct\", \"super\", \"cowork\", \"teacher friend\", \"experi\", \"student data\", \"overal\", \"great data\", \"conveni\", \"analysi\", \"analyz\", \"flexibl\", \"not_user_friend\", \"think\", \"user\", \"love\", \"extrem\", \"way\", \"teacher\", \"district\", \"assess\", \"tool\", \"access\", \"confus\", \"make\", \"report\", \"dont\", \"need\", \"test\", \"like\", \"inform\"], \"Freq\": [331.0, 306.0, 257.0, 301.0, 300.0, 251.0, 155.0, 249.0, 249.0, 147.0, 301.0, 290.0, 194.0, 215.0, 164.0, 93.0, 124.0, 201.0, 276.0, 74.0, 60.0, 81.0, 79.0, 55.0, 179.0, 88.0, 79.0, 121.0, 149.0, 50.0, 300.4355021860667, 299.4716557612432, 248.2650791661715, 249.208639315683, 193.28420466297797, 88.04476442302771, 74.62141134076732, 83.22912063361896, 75.46654196933763, 60.10153188967043, 62.00111961289716, 58.18265017407338, 52.43436701062993, 60.993630166154134, 42.76287426764802, 42.74849399672084, 42.74702292258084, 47.491232222861726, 41.76281117831018, 42.710397415008686, 40.79969972747534, 40.76443002824433, 36.92019346043951, 35.02575002500976, 33.11300033750741, 35.948617385525864, 34.05467800652469, 33.095560162966926, 33.09231620897532, 34.01716321326435, 208.19427531699918, 71.92472294216418, 290.4447463442906, 206.35663591700015, 63.312548057824465, 126.78834577140496, 104.03747352281998, 72.70290194210354, 55.18984600655078, 61.50004603968552, 119.85755632072281, 72.90482573227419, 53.469482267918416, 56.403488207666726, 93.12031506356924, 56.69172728517473, 58.764156428680245, 163.36839638151463, 123.7473120422932, 78.43604586992132, 80.31617392540595, 65.88475699217797, 56.234626801199475, 56.23386303857922, 53.322384318556765, 54.25761635098636, 45.65991961061957, 39.86295651607418, 41.75402756549293, 41.73030699718273, 37.93145331859221, 39.811505378030894, 41.697609370396094, 35.02016709669038, 36.89869047979789, 34.02946830610842, 32.07694803473555, 32.07104974321388, 32.98045391577669, 30.150618068872387, 29.202116477506475, 28.229476678046563, 26.343279940091048, 28.216529802843034, 24.39134296896193, 26.255958441028696, 22.497169459200283, 198.31260392683993, 254.2832898123908, 244.63538573730142, 170.65509454075945, 82.56958568914409, 102.23499981410765, 114.46011404797183, 76.57899528786888, 70.8612443438496, 68.9645825951051, 71.6637662752241, 41.585512342719454, 111.31084949788293, 109.35216208930713, 53.43003025749375, 46.07911615916128, 72.72789942248475, 62.20348870576416, 102.74261648362953, 48.78503991744593, 53.9436459789893, 46.650036394195794, 330.76491526924394, 305.46260809198486, 256.5928942126829, 155.21482405543932, 146.7184264459179, 93.1976226564828, 73.47690553850319, 59.40234896981085, 54.71659213687992, 50.051644378749714, 48.174029963498405, 37.8245972674441, 37.79901187686922, 35.02672426644949, 33.112798484207005, 28.374070970287356, 21.89752032877708, 20.94912486509892, 19.97451499135171, 19.046388615762083, 17.201087652749884, 17.18383410410621, 18.05106304486324, 17.13878379351799, 18.030534911098908, 15.317215140161922, 16.20287201839382, 15.301798433910918, 14.360317736950153, 15.234828124616637, 209.29401149404035, 49.752287290730735, 47.92729341329809, 62.00097577572823, 24.973101600979724, 70.24141842915911, 85.49274817195112, 52.168593658605275, 91.29939507695423, 32.95381266295713, 45.02573613867557, 42.26166512737851, 53.3738809140311, 67.52447458473902, 51.85881336034963, 51.17217478772979, 45.12492329109681, 44.47261862313016, 35.530337587723714], \"Total\": [331.0, 306.0, 257.0, 301.0, 300.0, 251.0, 155.0, 249.0, 249.0, 147.0, 301.0, 290.0, 194.0, 215.0, 164.0, 93.0, 124.0, 201.0, 276.0, 74.0, 60.0, 81.0, 79.0, 55.0, 179.0, 88.0, 79.0, 121.0, 149.0, 50.0, 301.1416694403069, 300.17691382044745, 249.0192989742822, 249.982786690088, 194.001535727241, 88.79146616117401, 75.27885915977215, 83.96412520704298, 76.24351155894786, 60.80004806355634, 62.72991191733129, 58.86938807547107, 53.07870083786108, 61.765300246593945, 43.42628267566814, 43.42621201523059, 43.42608572547075, 48.25173884200176, 42.46042049218821, 43.42542212743992, 41.49551225227891, 41.49502848349906, 37.63424439663089, 35.704173714160184, 33.77380143408186, 36.669219932277386, 34.73883758373792, 33.773732519269345, 33.77373983434497, 34.73883619559252, 276.1065543914868, 82.03384809073624, 410.68903404297043, 277.71042903895875, 74.31206471200485, 179.05441600349423, 139.9345028877197, 89.75420199446984, 64.65955623169316, 77.20698856290647, 282.3405806063355, 122.92228050354919, 73.34577283283492, 84.92736684230793, 293.7718722298306, 110.9855627787182, 188.73079576875605, 164.06094645718719, 124.49024140227274, 79.13051197206984, 81.05954690912624, 66.58402700415733, 56.93276065321597, 56.93307738581161, 54.037305789994505, 55.002336880763885, 46.31681169217308, 40.526028823519155, 42.4554332068521, 42.45602356425437, 38.595764561396685, 40.52562267545886, 42.45512623933835, 35.700451569744345, 37.63041045857285, 34.73458287594549, 32.80449855987057, 32.80376273354829, 33.76794401900824, 30.873748846263616, 29.90956185437983, 28.943523663817857, 27.01413666084206, 28.94374942688536, 25.084237456159034, 27.0139275145906, 23.153812020170328, 215.21404392232543, 301.1133203070044, 290.21570660355724, 201.70352831994683, 92.6428667626566, 121.59775576375033, 149.5870707720967, 95.98504292473415, 87.81743308648721, 89.74840752567151, 103.26225068716529, 47.28245239504693, 282.3405806063355, 293.7718722298306, 81.06220413299904, 58.863787789147956, 160.66473146529387, 115.04507754243218, 410.68903404297043, 68.0007814462636, 110.9855627787182, 77.89934994012891, 331.5193634080963, 306.1624417957647, 257.3307579656453, 155.90776155982178, 147.457185053467, 93.92881763446243, 74.20791137751006, 60.121224814454685, 55.425501461375134, 50.72920310071981, 48.85100593908155, 38.52154956989855, 38.52225933312225, 35.70373837479988, 33.826548638765054, 29.13229803727821, 22.555968354183918, 21.617135577280838, 20.67903179546318, 19.739637527657973, 17.860542655693365, 17.86102133728836, 18.802105249173273, 17.862275195212874, 18.802679850261235, 15.982519443217868, 16.92309475388605, 15.982946665703016, 15.04392424522367, 15.98480776436942, 251.89068371223345, 56.52890799305482, 58.51016167085495, 79.35161471507993, 31.1568105456761, 139.92859560224434, 188.73079576875605, 102.78832133827356, 293.7718722298306, 55.063616768559044, 97.1982743294652, 87.62474607377968, 160.66473146529387, 276.1065543914868, 179.05441600349423, 282.3405806063355, 290.21570660355724, 277.71042903895875, 139.9345028877197], \"Category\": [\"Default\", \"Default\", \"Default\", \"Default\", \"Default\", \"Default\", \"Default\", \"Default\", \"Default\", \"Default\", \"Default\", \"Default\", \"Default\", \"Default\", \"Default\", \"Default\", \"Default\", \"Default\", \"Default\", \"Default\", \"Default\", \"Default\", \"Default\", \"Default\", \"Default\", \"Default\", \"Default\", \"Default\", \"Default\", \"Default\", \"Topic1\", \"Topic1\", \"Topic1\", \"Topic1\", \"Topic1\", \"Topic1\", \"Topic1\", \"Topic1\", \"Topic1\", \"Topic1\", \"Topic1\", \"Topic1\", \"Topic1\", \"Topic1\", \"Topic1\", \"Topic1\", \"Topic1\", \"Topic1\", \"Topic1\", \"Topic1\", \"Topic1\", \"Topic1\", \"Topic1\", \"Topic1\", \"Topic1\", \"Topic1\", \"Topic1\", \"Topic1\", \"Topic1\", \"Topic1\", \"Topic1\", \"Topic1\", \"Topic1\", \"Topic1\", \"Topic1\", \"Topic1\", \"Topic1\", \"Topic1\", \"Topic1\", \"Topic1\", \"Topic1\", \"Topic1\", \"Topic1\", \"Topic1\", \"Topic1\", \"Topic1\", \"Topic1\", \"Topic2\", \"Topic2\", \"Topic2\", \"Topic2\", \"Topic2\", \"Topic2\", \"Topic2\", \"Topic2\", \"Topic2\", \"Topic2\", \"Topic2\", \"Topic2\", \"Topic2\", \"Topic2\", \"Topic2\", \"Topic2\", \"Topic2\", \"Topic2\", \"Topic2\", \"Topic2\", \"Topic2\", \"Topic2\", \"Topic2\", \"Topic2\", \"Topic2\", \"Topic2\", \"Topic2\", \"Topic2\", \"Topic2\", \"Topic2\", \"Topic2\", \"Topic2\", \"Topic2\", \"Topic2\", \"Topic2\", \"Topic2\", \"Topic2\", \"Topic2\", \"Topic2\", \"Topic2\", \"Topic2\", \"Topic2\", \"Topic2\", \"Topic2\", \"Topic2\", \"Topic2\", \"Topic2\", \"Topic2\", \"Topic2\", \"Topic2\", \"Topic2\", \"Topic2\", \"Topic3\", \"Topic3\", \"Topic3\", \"Topic3\", \"Topic3\", \"Topic3\", \"Topic3\", \"Topic3\", \"Topic3\", \"Topic3\", \"Topic3\", \"Topic3\", \"Topic3\", \"Topic3\", \"Topic3\", \"Topic3\", \"Topic3\", \"Topic3\", \"Topic3\", \"Topic3\", \"Topic3\", \"Topic3\", \"Topic3\", \"Topic3\", \"Topic3\", \"Topic3\", \"Topic3\", \"Topic3\", \"Topic3\", \"Topic3\", \"Topic3\", \"Topic3\", \"Topic3\", \"Topic3\", \"Topic3\", \"Topic3\", \"Topic3\", \"Topic3\", \"Topic3\", \"Topic3\", \"Topic3\", \"Topic3\", \"Topic3\", \"Topic3\", \"Topic3\", \"Topic3\", \"Topic3\", \"Topic3\", \"Topic3\"], \"logprob\": [30.0, 29.0, 28.0, 27.0, 26.0, 25.0, 24.0, 23.0, 22.0, 21.0, 20.0, 19.0, 18.0, 17.0, 16.0, 15.0, 14.0, 13.0, 12.0, 11.0, 10.0, 9.0, 8.0, 7.0, 6.0, 5.0, 4.0, 3.0, 2.0, 1.0, -3.4689, -3.4721, -3.6596, -3.6558, -3.91, -4.6963, -4.8617, -4.7525, -4.8504, -5.0781, -5.047, -5.1105, -5.2146, -5.0634, -5.4185, -5.4188, -5.4188, -5.3136, -5.4421, -5.4197, -5.4655, -5.4663, -5.5654, -5.6181, -5.6742, -5.592, -5.6462, -5.6747, -5.6748, -5.6473, -3.8357, -4.8985, -3.5027, -3.8445, -5.0261, -4.3316, -4.5294, -4.8878, -5.1634, -5.0551, -4.3878, -4.885, -5.195, -5.1416, -4.6402, -5.1365, -5.1006, -3.9354, -4.2132, -4.6691, -4.6454, -4.8435, -5.0019, -5.0019, -5.0551, -5.0377, -5.2102, -5.346, -5.2996, -5.3002, -5.3956, -5.3473, -5.301, -5.4755, -5.4232, -5.5042, -5.5633, -5.5635, -5.5355, -5.6252, -5.6572, -5.691, -5.7602, -5.6915, -5.8372, -5.7635, -5.918, -3.7416, -3.493, -3.5316, -3.8918, -4.6178, -4.4041, -4.2912, -4.6931, -4.7707, -4.7978, -4.7594, -5.3037, -4.3191, -4.3368, -5.053, -5.2011, -4.7447, -4.901, -4.3992, -5.144, -5.0435, -5.1887, -2.8378, -2.9174, -3.0917, -3.5944, -3.6507, -4.1045, -4.3423, -4.5549, -4.6371, -4.7262, -4.7644, -5.0063, -5.0069, -5.0831, -5.1393, -5.2937, -5.5528, -5.5971, -5.6448, -5.6923, -5.7942, -5.7953, -5.746, -5.7979, -5.7472, -5.9102, -5.854, -5.9113, -5.9748, -5.9156, -3.2955, -4.7322, -4.7695, -4.5121, -5.4214, -4.3873, -4.1908, -4.6847, -4.1251, -5.1441, -4.832, -4.8953, -4.6619, -4.4267, -4.6907, -4.704, -4.8298, -4.8443, -5.0688], \"loglift\": [30.0, 29.0, 28.0, 27.0, 26.0, 25.0, 24.0, 23.0, 22.0, 21.0, 20.0, 19.0, 18.0, 17.0, 16.0, 15.0, 14.0, 13.0, 12.0, 11.0, 10.0, 9.0, 8.0, 7.0, 6.0, 5.0, 4.0, 3.0, 2.0, 1.0, 0.8948, 0.8948, 0.8942, 0.8941, 0.8935, 0.8888, 0.8884, 0.8884, 0.887, 0.8856, 0.8855, 0.8855, 0.885, 0.8846, 0.8818, 0.8815, 0.8814, 0.8813, 0.8806, 0.8806, 0.8803, 0.8794, 0.878, 0.878, 0.8774, 0.8773, 0.8773, 0.8769, 0.8768, 0.8762, 0.6149, 0.7657, 0.5508, 0.6002, 0.737, 0.552, 0.6008, 0.6865, 0.7388, 0.6697, 0.0404, 0.3748, 0.5811, 0.4879, -0.2517, 0.2254, -0.2696, 1.0357, 1.0339, 1.0311, 1.0307, 1.0294, 1.0276, 1.0276, 1.0266, 1.0263, 1.0256, 1.0234, 1.0233, 1.0227, 1.0226, 1.0221, 1.0219, 1.0207, 1.0203, 1.0194, 1.0175, 1.0173, 1.0163, 1.0162, 1.016, 1.0149, 1.0148, 1.0145, 1.0119, 1.0115, 1.0111, 0.9581, 0.8709, 0.8691, 0.8728, 0.9248, 0.8665, 0.7723, 0.814, 0.8254, 0.7765, 0.6746, 0.9115, 0.1091, 0.0517, 0.6231, 0.7951, 0.2473, 0.425, -0.3457, 0.7078, 0.3185, 0.5272, 1.4298, 1.4298, 1.4292, 1.4277, 1.4271, 1.4243, 1.4222, 1.4201, 1.4192, 1.4187, 1.4182, 1.4138, 1.4132, 1.413, 1.4108, 1.4057, 1.4025, 1.4007, 1.3974, 1.3964, 1.3945, 1.3935, 1.3913, 1.3908, 1.3902, 1.3896, 1.3886, 1.3886, 1.3856, 1.3841, 1.2469, 1.3044, 1.2326, 1.1854, 1.2109, 0.7429, 0.6402, 0.7539, 0.2634, 0.9187, 0.6626, 0.7029, 0.3301, 0.0238, 0.1929, -0.2758, -0.4291, -0.3996, 0.0613]}, \"token.table\": {\"Topic\": [1, 2, 1, 2, 3, 3, 3, 1, 2, 3, 1, 2, 1, 3, 2, 1, 1, 2, 1, 3, 2, 1, 3, 2, 3, 3, 1, 2, 2, 3, 1, 1, 1, 1, 1, 2, 3, 1, 3, 3, 3, 3, 1, 2, 2, 1, 2, 1, 2, 3, 2, 3, 2, 2, 1, 3, 2, 3, 2, 1, 2, 2, 1, 2, 3, 1, 3, 3, 1, 1, 1, 2, 1, 1, 1, 3, 3, 3, 1, 2, 3, 2, 2, 2, 2, 3, 1, 2, 2, 3, 1, 1, 2, 3, 2, 2, 1, 2, 3, 2, 3, 2, 1, 2, 3, 1, 2, 1, 1, 1, 2, 3, 1, 3, 1, 2, 3, 3, 3, 1, 1, 2, 3, 2, 3, 1, 3, 1, 3, 2, 2, 1, 2, 1, 2, 1, 1, 1, 2, 2, 1, 1, 1, 2, 2, 1, 2, 3, 3, 3, 2, 1, 2, 1, 2, 3, 3, 2, 3, 1, 2, 1, 3, 1, 2, 2, 2, 3, 3, 2, 1, 2, 3, 2, 2, 3, 1, 3, 3, 1, 1, 1, 2, 3, 1, 2, 1, 1, 2, 1, 2, 1], \"Freq\": [0.7226046976257823, 0.27268101797199334, 0.3703769459730703, 0.1749002244872832, 0.46297118246633784, 0.9385002849435599, 0.9306082490042379, 0.31657217314270997, 0.37103620293070305, 0.3097641694192108, 0.8506089927824391, 0.13919056245530823, 0.9883642126216723, 0.9714515563324942, 0.9931598985206787, 0.9802775518683713, 0.300206511030977, 0.6972538320719466, 0.986841325146322, 0.9753516078115622, 0.9817764673719812, 0.5135535566871736, 0.47931665290802866, 0.9870199760798207, 0.9454535492880768, 0.9518187844410734, 0.2339774408265821, 0.7620979501208673, 0.9754978494364525, 0.9984333843949351, 0.9902033853305687, 0.9960792660385888, 0.9901837631636154, 0.9962956510913602, 0.11674478037741591, 0.3794205362266017, 0.5058940483021356, 0.709281585088198, 0.29041450728020707, 0.9825795616134747, 0.996203186161743, 0.9856255754841641, 0.9880586544090273, 0.9716992953912249, 0.9788515417453247, 0.8030361131037228, 0.19428293058961038, 0.10574747600282625, 0.8882787984237405, 0.9573396043398629, 0.1925742685119826, 0.8023927854665941, 0.9869287832275442, 0.9892589195602783, 0.996208862617954, 0.9383910160893781, 0.9673936706345057, 0.9923230020449764, 0.9832473137845025, 0.33307754567962405, 0.6538188859637065, 0.9624590386295008, 0.6593869806888055, 0.32969349034440276, 0.9901114731575025, 0.995906747073497, 0.9941775730038079, 0.9385253716281386, 0.994837485572026, 0.9770887077786571, 0.9796773315692828, 0.9960620093852288, 0.9852319158752507, 0.9787316549681044, 0.7432048412209479, 0.2572632142687897, 0.9671632694325585, 0.9837226064568079, 0.2173061249906953, 0.5389191899769243, 0.24338285998957873, 0.9772581943817498, 0.9808038951085793, 0.9912287221059659, 0.9501675137050785, 0.9611325534350464, 0.8776864876600939, 0.12190090106390195, 0.7205799544924549, 0.27940855378278867, 0.9831471467861417, 0.7417798485742182, 0.09722357238594123, 0.1584384142585709, 0.9567761444590848, 0.9803797560270087, 0.988517414971387, 0.8022083196897551, 0.1979475074559136, 0.21423634617947265, 0.7813325566545473, 0.9754759683827419, 0.2178449475550305, 0.45436231918620645, 0.3298794920119033, 0.15369091586155637, 0.8477789229782625, 0.9901882539410906, 0.99606858254882, 0.42501860604768943, 0.3931422105941127, 0.180632907570268, 0.16673899717538543, 0.8297250097537037, 0.5938711818635047, 0.22778620674216618, 0.17897487672598772, 0.9864608361885291, 0.9573103484900275, 0.9891564782719728, 0.9880701736668065, 0.9674012164248905, 0.9755650909706516, 0.9935332175018017, 0.9813505992614922, 0.7533323519190361, 0.24628173043506948, 0.9770907015140273, 0.9802895044935521, 0.9695895961696731, 0.9624664901450202, 0.19358343101713651, 0.8084955060127467, 0.8133323942259312, 0.1894061739978196, 0.990185374329193, 0.9910862361509231, 0.8477762022109792, 0.14802441625905985, 0.9836164513627308, 0.9740581609690685, 0.9876095438128119, 0.10794139202988157, 0.895913553848017, 0.983610979264505, 0.706130371062348, 0.25079802834283393, 0.04382878165214574, 0.9517264634102175, 0.9625303389374988, 0.9892798283822641, 0.15625288378606833, 0.8388312708515246, 0.3126145882004876, 0.2331363030647704, 0.4503769491023974, 0.9517932753660167, 0.8441996571008366, 0.15505707987566386, 0.5135803123659063, 0.486549769609806, 0.10614038397375665, 0.8845031997813054, 0.15276640685672768, 0.8435362465567138, 0.9845639912004084, 0.39953786712684397, 0.599306800690266, 0.986442660888449, 0.9857133241793145, 0.2695786295539047, 0.6033426470968343, 0.12837077597804986, 0.987029868000593, 0.9892726755458334, 0.9968995403424986, 0.17091048314401078, 0.8203703190912517, 0.9987146582543799, 0.9787316940777003, 0.9836902638202015, 0.17866255208523668, 0.321592593753426, 0.5002551458386627, 0.20386047943405203, 0.7814651711638662, 0.9770904898853355, 0.07899112757778763, 0.920014309435409, 0.22284517966827688, 0.7688158698555552, 0.9817498181441182], \"Term\": [\"abl\", \"abl\", \"access\", \"access\", \"access\", \"analysi\", \"analyz\", \"assess\", \"assess\", \"assess\", \"assign\", \"assign\", \"attend\", \"awesom\", \"bank\", \"card\", \"chang\", \"chang\", \"class\", \"collect\", \"complic\", \"confus\", \"confus\", \"consum\", \"conveni\", \"cowork\", \"creat\", \"creat\", \"creat assess\", \"data\", \"differ\", \"difficult\", \"difficult find\", \"difficult navig\", \"district\", \"district\", \"district\", \"dont\", \"dont\", \"eas\", \"easi\", \"easi navig\", \"easili\", \"educ\", \"effici\", \"enter\", \"enter\", \"everi\", \"everi\", \"experi\", \"extrem\", \"extrem\", \"featur\", \"figur\", \"find\", \"flexibl\", \"format\", \"friend\", \"get\", \"give\", \"give\", \"glitch\", \"go\", \"go\", \"good\", \"grade\", \"great\", \"great data\", \"hard\", \"hard find\", \"hard navig\", \"help\", \"iep\", \"info\", \"inform\", \"inform\", \"instruct\", \"interfac\", \"intuit\", \"intuit\", \"intuit\", \"isnt\", \"issu\", \"item\", \"item bank\", \"job\", \"know\", \"know\", \"learn\", \"learn\", \"level\", \"like\", \"like\", \"like\", \"load\", \"long\", \"look\", \"lot\", \"lot\", \"love\", \"love\", \"made\", \"make\", \"make\", \"make\", \"mani\", \"mani\", \"name\", \"navig\", \"need\", \"need\", \"need\", \"not_user_friend\", \"not_user_friend\", \"one\", \"one\", \"one\", \"organ\", \"overal\", \"page\", \"parent\", \"problem\", \"product\", \"question\", \"recommend\", \"report\", \"report\", \"report card\", \"resourc\", \"respons\", \"scan\", \"school\", \"school\", \"score\", \"score\", \"screen\", \"search\", \"see\", \"see\", \"seem\", \"set\", \"sometim\", \"standard\", \"standard\", \"step\", \"student\", \"student\", \"student\", \"student data\", \"super\", \"support\", \"take\", \"take\", \"teacher\", \"teacher\", \"teacher\", \"teacher friend\", \"test\", \"test\", \"thing\", \"thing\", \"think\", \"think\", \"time\", \"time\", \"time consum\", \"tool\", \"tool\", \"track\", \"train\", \"tri\", \"tri\", \"tri\", \"updat\", \"us\", \"use\", \"user\", \"user\", \"user_friend\", \"view\", \"want\", \"way\", \"way\", \"way\", \"well\", \"well\", \"wish\", \"work\", \"work\", \"year\", \"year\", \"yet\"]}, \"R\": 30, \"lambda.step\": 0.01, \"plot.opts\": {\"xlab\": \"PC1\", \"ylab\": \"PC2\"}, \"topic.order\": [2, 1, 3]};\n",
       "\n",
       "function LDAvis_load_lib(url, callback){\n",
       "  var s = document.createElement('script');\n",
       "  s.src = url;\n",
       "  s.async = true;\n",
       "  s.onreadystatechange = s.onload = callback;\n",
       "  s.onerror = function(){console.warn(\"failed to load library \" + url);};\n",
       "  document.getElementsByTagName(\"head\")[0].appendChild(s);\n",
       "}\n",
       "\n",
       "if(typeof(LDAvis) !== \"undefined\"){\n",
       "   // already loaded: just create the visualization\n",
       "   !function(LDAvis){\n",
       "       new LDAvis(\"#\" + \"ldavis_el50331406320017511208918424917\", ldavis_el50331406320017511208918424917_data);\n",
       "   }(LDAvis);\n",
       "}else if(typeof define === \"function\" && define.amd){\n",
       "   // require.js is available: use it to load d3/LDAvis\n",
       "   require.config({paths: {d3: \"https://d3js.org/d3.v5\"}});\n",
       "   require([\"d3\"], function(d3){\n",
       "      window.d3 = d3;\n",
       "      LDAvis_load_lib(\"https://cdn.jsdelivr.net/gh/bmabey/pyLDAvis@3.3.1/pyLDAvis/js/ldavis.v3.0.0.js\", function(){\n",
       "        new LDAvis(\"#\" + \"ldavis_el50331406320017511208918424917\", ldavis_el50331406320017511208918424917_data);\n",
       "      });\n",
       "    });\n",
       "}else{\n",
       "    // require.js not available: dynamically load d3 & LDAvis\n",
       "    LDAvis_load_lib(\"https://d3js.org/d3.v5.js\", function(){\n",
       "         LDAvis_load_lib(\"https://cdn.jsdelivr.net/gh/bmabey/pyLDAvis@3.3.1/pyLDAvis/js/ldavis.v3.0.0.js\", function(){\n",
       "                 new LDAvis(\"#\" + \"ldavis_el50331406320017511208918424917\", ldavis_el50331406320017511208918424917_data);\n",
       "            })\n",
       "         });\n",
       "}\n",
       "</script>"
      ],
      "text/plain": [
       "<IPython.core.display.HTML object>"
      ]
     },
     "execution_count": 8,
     "metadata": {},
     "output_type": "execute_result"
    }
   ],
   "source": [
    "import pandas as pd\n",
    "import numpy as np\n",
    "import re\n",
    "import nltk\n",
    "import matplotlib.pyplot as plt\n",
    "from sklearn.feature_extraction.text import CountVectorizer\n",
    "from sklearn.feature_extraction.text import TfidfVectorizer\n",
    "from sklearn.metrics.pairwise import cosine_similarity\n",
    "from scipy.cluster.hierarchy import dendrogram, linkage\n",
    "from scipy.cluster.hierarchy import fcluster\n",
    "from sklearn.decomposition import LatentDirichletAllocation\n",
    "from nltk.stem import SnowballStemmer\n",
    "from nltk.tokenize import word_tokenize\n",
    "import pyLDAvis\n",
    "import pyLDAvis.sklearn\n",
    "\n",
    "\n",
    "pd.options.display.max_colwidth = 200\n",
    "\n",
    "# Import data\n",
    "nps_data_2018 = pd.read_csv('Fall 2018 DnA NPS.csv')\n",
    "nps_data_2021 = pd.read_csv('Fall 2021 DnA NPS.csv')\n",
    "\n",
    "# Drop unnecessary columns\n",
    "nps_data_2018 = nps_data_2018.drop('Account ID', 1)\n",
    "nps_data_2021 = nps_data_2021.drop('Channel', 1)\n",
    "\n",
    "# Concat data frames\n",
    "nps_data_full = pd.concat([nps_data_2018, nps_data_2021])\n",
    "\n",
    "# Filter rows w/o response\n",
    "nps_data_w_response = nps_data_full[nps_data_full['Response'].notna()]\n",
    "\n",
    "# Text Pre-Processing\n",
    "tokenizer = nltk.WordPunctTokenizer()\n",
    "stemmer = SnowballStemmer(language = 'english')\n",
    "stop_words = nltk.corpus.stopwords.words('english')\n",
    "custom_stop_words = ['illuminate', 'program', 'system', 'platform', 'would',\n",
    "                     'use', 'used', 'also', 'thing', 'im', 'get', 'still']\n",
    "stop_words = stop_words + custom_stop_words\n",
    "\n",
    "def prepare_text(doc):\n",
    "    # lower case and remove special characters\\whitespaces\n",
    "    doc = re.sub(r'[^a-zA-Z\\s]', '', doc, re.I | re.A)\n",
    "    doc = doc.lower()\n",
    "    doc = doc.strip()\n",
    "\n",
    "    # Transform User Friendly / Not User Friendly Text\n",
    "    doc = doc.replace(\"not user friendly\", \"not_user_friendly\")\n",
    "    doc = doc.replace(\"user friendly\", \"user_friendly\")\n",
    "    doc = doc.replace(\"userfriendly\", \"user_friendly\")\n",
    "\n",
    "    # Tokenize\n",
    "    tokens = tokenizer.tokenize(doc)\n",
    "\n",
    "    # Remove Stop Words\n",
    "    tokens = [w for w in tokens if w not in stop_words]\n",
    "\n",
    "    # Stem\n",
    "\n",
    "    tokens = [stemmer.stem(w) for w in tokens]\n",
    "\n",
    "    # Compile Document\n",
    "    doc = ' '.join(tokens)\n",
    "    return doc\n",
    "\n",
    "\n",
    "prepare_dataset = np.vectorize(prepare_text)\n",
    "\n",
    "# Prepare NPS Responses\n",
    "print(\"Prepare NPS Responses...\")\n",
    "preprocessed_responses = prepare_dataset(nps_data_w_response['Response'])\n",
    "nps_data_w_response['preprocessed_response'] = preprocessed_responses\n",
    "nps_data_w_response.to_csv('nps_data_w_preprocessed_response.csv')\n",
    "\n",
    "# Create Bag-of-Words/Phrases Matrix\n",
    "print(\"Create Bag-of-Words/Phrases Matrix...\")\n",
    "cv = CountVectorizer(ngram_range = (1, 3), min_df = 5, max_df = 1.0)\n",
    "word_matrix = cv.fit_transform(nps_data_w_response['preprocessed_response'])\n",
    "word_matrix_arr = word_matrix.toarray()\n",
    "words = cv.get_feature_names()\n",
    "word_matrix_df = pd.DataFrame(word_matrix_arr, columns = words)\n",
    "# print(word_matrix_df.sum())\n",
    "\n",
    "# Create TF-IDF Matrix\n",
    "# This is a normed and scaled matrix\n",
    "# Ensures that high-frequency tokens don't overwhelm other tokens in the dataset\n",
    "\n",
    "print(\"Create TF-IDF Matrix...\")\n",
    "tfid = TfidfVectorizer(ngram_range = (1, 2), min_df = 5, max_df = 0.7)\n",
    "tfid_matrix = tfid.fit_transform(nps_data_w_response['preprocessed_response'])\n",
    "tfid_matrix = tfid_matrix.toarray()\n",
    "words_tfid = tfid.get_feature_names()\n",
    "tfid_matrix_df = pd.DataFrame(tfid_matrix, columns = words_tfid)\n",
    "# print(tfid_matrix_df.max())\n",
    "\n",
    "\n",
    "# Calculate Similarity Scores\n",
    "print(\"Calculate Similarity Scores...\")\n",
    "sim_matrix = cosine_similarity(tfid_matrix)\n",
    "sim_df = pd.DataFrame(sim_matrix)\n",
    "# print(sim_df.head())\n",
    "\n",
    "# Clustering (Unsupervised)\n",
    "# print(\"Clustering...\")\n",
    "# ward_linkage = linkage(sim_matrix, 'ward', optimal_ordering = True)\n",
    "# cluster_df = pd.DataFrame(ward_linkage,\n",
    "#                           columns = ['doc1_cluster1', 'doc2_cluster2', 'distance', 'cluster_size'],\n",
    "#                           dtype = 'object')\n",
    "# print(cluster_df.head(20))\n",
    "\n",
    "# Create Dendogram\n",
    "# print(\"Create Dendogram...\")\n",
    "# plt.figure(figsize=(8, 3))\n",
    "# plt.title('Hierarchical Clustering Dendrogram')\n",
    "# plt.xlabel('Data point')\n",
    "# plt.ylabel('Distance')\n",
    "# dendrogram(ward_linkage, p = 5, truncate_mode = 'level')\n",
    "# plt.axhline(y=30.0, c='k', ls='--', lw=0.5)\n",
    "# plt.show()\n",
    "\n",
    "# Topic Model\n",
    "print(\"Topic Model...\")\n",
    "lda = LatentDirichletAllocation(n_components = 3, max_iter = 500, random_state=0, n_jobs = 20, verbose = 0)\n",
    "dt_matrix = lda.fit(word_matrix)\n",
    "# features = pd.DataFrame(dt_matrix, columns=['T1', 'T2', 'T3', 'T4', 'T5'])\n",
    "\n",
    "# print(\"Analyzing topics...\")\n",
    "# tt_matrix = lda.components_\n",
    "# for i, topic_weights in enumerate(tt_matrix):\n",
    "#     topic = [(token, weight) for token, weight in zip(words, topic_weights)]\n",
    "#     topic = sorted(topic, key=lambda x: -x[1])\n",
    "#     topic = [item for item in topic if item[1] > 40]\n",
    "#     print(f\"Topic {i+1}:\")\n",
    "#     print(topic)\n",
    "#     print()\n",
    "\n",
    "prepared_ldavis = pyLDAvis.sklearn.prepare(dt_matrix, word_matrix, cv)\n",
    "pyLDAvis.save_html(prepared_ldavis, 'lda_viz.html')\n",
    "pyLDAvis.display(prepared_ldavis)"
   ]
  },
  {
   "cell_type": "code",
   "execution_count": null,
   "metadata": {
    "pycharm": {
     "name": "#%%\n"
    }
   },
   "outputs": [],
   "source": []
  }
 ],
 "metadata": {
  "kernelspec": {
   "display_name": "Python 3",
   "language": "python",
   "name": "python3"
  },
  "language_info": {
   "codemirror_mode": {
    "name": "ipython",
    "version": 3
   },
   "file_extension": ".py",
   "mimetype": "text/x-python",
   "name": "python",
   "nbconvert_exporter": "python",
   "pygments_lexer": "ipython3",
   "version": "3.7.7"
  },
  "toc": {
   "base_numbering": 1,
   "nav_menu": {},
   "number_sections": true,
   "sideBar": true,
   "skip_h1_title": false,
   "title_cell": "Table of Contents",
   "title_sidebar": "Contents",
   "toc_cell": false,
   "toc_position": {},
   "toc_section_display": true,
   "toc_window_display": false
  }
 },
 "nbformat": 4,
 "nbformat_minor": 1
}